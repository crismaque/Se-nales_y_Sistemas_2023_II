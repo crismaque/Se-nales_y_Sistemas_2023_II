{
  "nbformat": 4,
  "nbformat_minor": 0,
  "metadata": {
    "colab": {
      "provenance": [],
      "include_colab_link": true
    },
    "kernelspec": {
      "name": "python3",
      "display_name": "Python 3"
    },
    "language_info": {
      "name": "python"
    }
  },
  "cells": [
    {
      "cell_type": "markdown",
      "metadata": {
        "id": "view-in-github",
        "colab_type": "text"
      },
      "source": [
        "<a href=\"https://colab.research.google.com/github/crismaque/Se-nales_y_Sistemas_2023_II/blob/main/Ejercicios_Python_Basics/7_EJERCICIOS_Clases.ipynb\" target=\"_parent\"><img src=\"https://colab.research.google.com/assets/colab-badge.svg\" alt=\"Open In Colab\"/></a>"
      ]
    },
    {
      "cell_type": "markdown",
      "source": [
        "# Clases en python.\n",
        "\n",
        "Las clases son una forma de organizar y estructurar el código en Python. Pueden contener funciones y variables, lo que las hace muy versátiles. Las clases son una parte fundamental de la programación orientada a objetos (POO).\n",
        "\n",
        "La POO es un paradigma de programación que utiliza objetos para representar entidades del mundo real. Por ejemplo, una clase \"Coche\" podría representar un coche del mundo real, con sus propiedades (marca, modelo, color, etc.) y sus métodos (acelerar, frenar, girar, etc.).\n",
        "\n",
        "\n",
        "En términos simples, una clase en programación es una plantilla o molde que se utiliza para crear objetos. La clase define las propiedades y los comportamientos de los objetos que se crean a partir de ella.\n",
        "\n",
        "**Ejemplo**:\n",
        "\n",
        "Piensa en una clase como si fuera un plano para construir un edificio. El plano especifica cómo debe ser el edificio, incluyendo el número de pisos, el número de habitaciones, el tamaño de las ventanas, etc.\n",
        "\n",
        "De manera similar, una clase define las características y comportamientos que tendrá un objeto. Por ejemplo, si tenemos una clase \"Coche\", podemos definir las propiedades de un coche, como su marca, modelo, color, etc. y los comportamientos que tiene un coche, como acelerar, frenar y girar. Luego, podemos crear múltiples objetos \"coche\" a partir de esta clase, cada uno con sus propias propiedades y comportamientos.\n",
        "\n"
      ],
      "metadata": {
        "id": "hFnAE4eorCHN"
      }
    },
    {
      "cell_type": "markdown",
      "source": [
        "### **Crear una clase**\n",
        "\n",
        "Para crear una clase en Python, usamos la palabra clave \"class\", seguida del nombre de la clase:"
      ],
      "metadata": {
        "id": "E-tNF60K_9b9"
      }
    },
    {
      "cell_type": "code",
      "execution_count": 235,
      "metadata": {
        "id": "hi8DOAlZmPjH"
      },
      "outputs": [],
      "source": [
        "#class Coche:"
      ]
    },
    {
      "cell_type": "markdown",
      "source": [
        "Dentro de la clase, podemos definir variables y funciones. Las variables se llaman \"atributos\" y las funciones se llaman \"métodos\"."
      ],
      "metadata": {
        "id": "aTnx3vjGAIh7"
      }
    },
    {
      "cell_type": "markdown",
      "source": [
        "#### **Atributos**\n",
        "\n",
        "Los atributos son variables que pertenecen a una clase. Por ejemplo, en una clase \"Coche\", los atributos podrían ser \"marca\", \"modelo\" y \"color\". Para definir un atributo, lo hacemos dentro de la clase, pero fuera de cualquier método:"
      ],
      "metadata": {
        "id": "DT2TvFHxAJlz"
      }
    },
    {
      "cell_type": "code",
      "source": [
        "class Coche:\n",
        "    marca = \"Toyota\"\n",
        "    modelo = \"Corolla\"\n",
        "    color = \"Rojo\""
      ],
      "metadata": {
        "id": "sfC5pdD7ANuq"
      },
      "execution_count": 236,
      "outputs": []
    },
    {
      "cell_type": "markdown",
      "source": [
        "#### **Métodos**\n",
        "\n",
        "Los métodos son funciones que pertenecen a una clase. Por ejemplo, en una clase \"Coche\", los métodos podrían ser \"acelerar\", \"frenar\" y \"girar\". Para definir un método, lo hacemos dentro de la clase:\n",
        "\n"
      ],
      "metadata": {
        "id": "1TDchxG8ASQD"
      }
    },
    {
      "cell_type": "code",
      "source": [
        "class Coche:\n",
        "    marca = \"Toyota\"\n",
        "    modelo = \"Corolla\"\n",
        "    color = \"Rojo\"\n",
        "\n",
        "    def acelerar(self):\n",
        "        print(\"El coche está acelerando\")\n",
        "\n",
        "    def frenar(self):\n",
        "        print(\"El coche está frenando\")\n",
        "\n",
        "    def girar(self, direccion):\n",
        "        print(\"El coche está girando hacia \" + direccion)"
      ],
      "metadata": {
        "id": "q33frF1wAX9C"
      },
      "execution_count": 237,
      "outputs": []
    },
    {
      "cell_type": "markdown",
      "source": [
        "**Nota**: El primer parámetro de un método siempre es \"self\". Este parámetro hace referencia al objeto que se está creando. Por ejemplo, si creamos un objeto \"coche\" a partir de la clase \"Coche\", al llamar al método \"acelerar\", el objeto \"coche\" se pasará automáticamente como primer parámetro."
      ],
      "metadata": {
        "id": "o41PexstAdY6"
      }
    },
    {
      "cell_type": "markdown",
      "source": [
        "### **Crear un objeto**\n",
        "\n",
        "Para crear un objeto a partir de una clase, simplemente hacemos lo siguiente:"
      ],
      "metadata": {
        "id": "hnRv4ZMtAgt7"
      }
    },
    {
      "cell_type": "code",
      "source": [
        "coche = Coche()"
      ],
      "metadata": {
        "id": "4TlvhlD1Alrs"
      },
      "execution_count": 238,
      "outputs": []
    },
    {
      "cell_type": "markdown",
      "source": [
        "Esto crea un objeto \"coche\" a partir de la clase \"Coche\". Podemos acceder a los atributos y métodos del objeto de la siguiente manera:"
      ],
      "metadata": {
        "id": "fMCPalavAm-D"
      }
    },
    {
      "cell_type": "code",
      "source": [
        "print(coche.marca)\n",
        "print(coche.modelo)\n",
        "print(coche.color)\n",
        "\n",
        "coche.acelerar()\n",
        "coche.frenar()\n",
        "coche.girar(\"izquierda\")"
      ],
      "metadata": {
        "id": "HZAkrbk7Aoti",
        "colab": {
          "base_uri": "https://localhost:8080/"
        },
        "outputId": "5512ee38-88ff-453a-b9d3-80cd667a9ea1"
      },
      "execution_count": 239,
      "outputs": [
        {
          "output_type": "stream",
          "name": "stdout",
          "text": [
            "Toyota\n",
            "Corolla\n",
            "Rojo\n",
            "El coche está acelerando\n",
            "El coche está frenando\n",
            "El coche está girando hacia izquierda\n"
          ]
        }
      ]
    },
    {
      "cell_type": "markdown",
      "source": [
        "### Ejemplo_1\n",
        "\n",
        "En este ejemplo, podríamos crear una clase llamada \"Perro\" que tenga atributos como nombre, raza, edad, tamaño, y métodos como ladrar, correr, morder, etc."
      ],
      "metadata": {
        "id": "TR-xIdH1AqQL"
      }
    },
    {
      "cell_type": "code",
      "source": [
        "class Perro:\n",
        "    def __init__(self, nombre, raza, edad, tamaño):\n",
        "        self.nombre = nombre\n",
        "        self.raza = raza\n",
        "        self.edad = edad\n",
        "        self.tamaño = tamaño\n",
        "\n",
        "    def ladrar(self):\n",
        "        print(f\"{self.nombre} está ladrando.\")\n",
        "\n",
        "    def correr(self):\n",
        "        print(f\"{self.nombre} está corriendo.\")\n",
        "\n",
        "    def morder(self):\n",
        "        print(f\"{self.nombre} está mordiendo.\")"
      ],
      "metadata": {
        "id": "Rk7z54NkA9OK"
      },
      "execution_count": 240,
      "outputs": []
    },
    {
      "cell_type": "markdown",
      "source": [
        "En este ejemplo, la función '__init__' es el constructor de la clase, que se utiliza para inicializar los atributos de la clase. Luego, se definen los métodos ladrar, correr y morder que describen los comportamientos que puede tener un perro.\n",
        "\n",
        "Podemos crear objetos de la clase \"Perro\" de la siguiente manera:"
      ],
      "metadata": {
        "id": "KLr8hp8oA6ai"
      }
    },
    {
      "cell_type": "code",
      "source": [
        "perro1 = Perro(\"Fido\", \"Labrador\", 3, \"Grande\")\n",
        "perro2 = Perro(\"Toby\", \"Chihuahua\", 2, \"Pequeño\")"
      ],
      "metadata": {
        "id": "N2HsvjXhA-jB"
      },
      "execution_count": 241,
      "outputs": []
    },
    {
      "cell_type": "markdown",
      "source": [
        "Cada objeto creado a partir de la clase \"Perro\" tendrá sus propios atributos y comportamientos. Por ejemplo, podemos llamar al método ladrar del objeto perro1 de la siguiente manera"
      ],
      "metadata": {
        "id": "fQEU8p17Cayg"
      }
    },
    {
      "cell_type": "code",
      "source": [
        "perro1.ladrar()"
      ],
      "metadata": {
        "id": "rhS8cNz8Calx",
        "outputId": "f05d5c67-5a22-4479-ca66-3bf875a36490",
        "colab": {
          "base_uri": "https://localhost:8080/"
        }
      },
      "execution_count": 242,
      "outputs": [
        {
          "output_type": "stream",
          "name": "stdout",
          "text": [
            "Fido está ladrando.\n"
          ]
        }
      ]
    },
    {
      "cell_type": "markdown",
      "source": [
        "### Ejercicio_2\n",
        "\n",
        "Supongamos que estás construyendo un sistema de tienda en línea en Python. El sistema necesita manejar muchos productos diferentes, cada uno con sus propias propiedades como nombre, descripción, precio, inventario, etc. También necesita manejar diferentes clientes y sus órdenes de compra."
      ],
      "metadata": {
        "id": "tDvFelEXCtPB"
      }
    },
    {
      "cell_type": "markdown",
      "source": [
        "**¿Cómo podemos hacerlo?**\n",
        "\n",
        "Por ejemplo, podríamos crear una clase \"Producto\" que tenga atributos como nombre, descripción, precio, inventario, etc., y métodos para agregar y eliminar productos del inventario.\n",
        "\n",
        "De manera similar, podríamos crear una clase \"Cliente\" que tenga atributos como nombre, dirección de correo electrónico, historial de compras, etc., y métodos para realizar pedidos y revisar su historial de compras.\n",
        "\n",
        "Finalmente, podríamos crear una clase \"Orden\" que tenga atributos como los productos que se compraron, la cantidad, el costo total, etc., y métodos para confirmar la orden y actualizar el inventario.\n"
      ],
      "metadata": {
        "id": "WBaNntfvDcnQ"
      }
    },
    {
      "cell_type": "code",
      "source": [
        "class Producto:\n",
        "    def __init__(self, nombre, descripcion, precio, inventario):\n",
        "        self.nombre = nombre\n",
        "        self.descripcion = descripcion\n",
        "        self.precio = precio\n",
        "        self.inventario = inventario\n",
        "\n",
        "    def agregar_inventario(self, cantidad):\n",
        "        self.inventario += cantidad\n",
        "\n",
        "    def eliminar_inventario(self, cantidad):\n",
        "        self.inventario -= cantidad"
      ],
      "metadata": {
        "id": "fPeeKFK3Dil2"
      },
      "execution_count": 243,
      "outputs": []
    },
    {
      "cell_type": "markdown",
      "source": [
        "En este ejemplo, la función __init__ es el constructor de la clase \"Producto\" y se utiliza para inicializar los atributos de la clase. Los métodos agregar_inventario y eliminar_inventario se utilizan para agregar o eliminar productos del inventario.\n",
        "\n",
        "Con estas clases, podemos manejar fácilmente la información de los productos, los clientes y las órdenes de compra en nuestro sistema de tienda en línea"
      ],
      "metadata": {
        "id": "xxxNYz0FDoUf"
      }
    },
    {
      "cell_type": "markdown",
      "source": [
        "## Ejercicios\n",
        "\n",
        "1. Crea una clase \"Persona\" que tenga atributos como nombre, edad, género y métodos para presentarse y saludar a otras personas.\n",
        "\n",
        "2. Crea una clase \"Coche\" que tenga atributos como marca, modelo, año, kilometraje y métodos para arrancar, acelerar y frenar.\n",
        "\n",
        "3. Crea una clase \"Rectángulo\" que tenga atributos como longitud y ancho y métodos para calcular el área y el perímetro.\n",
        "\n",
        "4. Crea una clase \"Banco\" que tenga atributos como nombre, dirección y métodos para abrir una cuenta, depositar dinero, retirar dinero y revisar el saldo.\n",
        "\n",
        "5. Crea una clase \"Estudiante\" que tenga atributos como nombre, edad, promedio y métodos para estudiar, hacer tareas y presentar exámenes."
      ],
      "metadata": {
        "id": "laT0U1q4D0eP"
      }
    },
    {
      "cell_type": "code",
      "source": [
        "class Persona:\n",
        "    def __init__(self, nombre, edad, genero):\n",
        "        self.nombre = nombre\n",
        "        self.edad = edad\n",
        "        self.genero = genero\n",
        "\n",
        "    def presentarse(self):\n",
        "        print(f\"Me llamo {self.nombre}, tengo {self.edad} años y soy {self.genero}.\")\n",
        "\n",
        "    def saludar(self, otra_persona):\n",
        "        print (f\"Hola, {otra_persona.nombre}. Soy {self.nombre}, ¿cómo estás?\")\n",
        "\n",
        "persona1 = Persona(\"Cristian\", 21, \"hombre\")\n",
        "persona2 = Persona(\"Carlos\", 25, \"hombre\")\n",
        "\n",
        "print(persona1.presentarse())\n",
        "print(persona2.presentarse())\n",
        "\n",
        "saludo = persona1.saludar(persona2)\n",
        "print(saludo)\n"
      ],
      "metadata": {
        "id": "xnh8KjtgG-2A",
        "colab": {
          "base_uri": "https://localhost:8080/"
        },
        "outputId": "44bab5a2-ab7e-44b6-d85b-2d9f28b1e8e2"
      },
      "execution_count": 244,
      "outputs": [
        {
          "output_type": "stream",
          "name": "stdout",
          "text": [
            "Me llamo Cristian, tengo 21 años y soy hombre.\n",
            "None\n",
            "Me llamo Carlos, tengo 25 años y soy hombre.\n",
            "None\n",
            "Hola, Carlos. Soy Cristian, ¿cómo estás?\n",
            "None\n"
          ]
        }
      ]
    },
    {
      "cell_type": "markdown",
      "source": [
        "2."
      ],
      "metadata": {
        "id": "T8X4Vg7i_ONd"
      }
    },
    {
      "cell_type": "code",
      "source": [
        "class Coche:\n",
        "    def __init__(self, marca, modelo, año, kilometraje=0):\n",
        "        self.marca = marca\n",
        "        self.modelo = modelo\n",
        "        self.año = año\n",
        "        self.kilometraje = kilometraje\n",
        "        self.encendido = False\n",
        "\n",
        "    def arrancar(self):\n",
        "        if not self.encendido:\n",
        "            self.encendido = True\n",
        "            print( \"El coche ha arrancado.\")\n",
        "        else:\n",
        "            print(\"El coche ya está encendido.\")\n",
        "\n",
        "    def apagar(self):\n",
        "        if self.encendido:\n",
        "            self.encendido = False\n",
        "            print( \"El coche se ha apagado.\")\n",
        "        else:\n",
        "            print( \"El coche ya está apagado.\")\n",
        "\n",
        "    def acelerar(self, velocidad):\n",
        "        if self.encendido:\n",
        "            if velocidad >= 0:\n",
        "                self.kilometraje += velocidad\n",
        "                print (f\"Acelerando a {velocidad} km/h.\")\n",
        "            else:\n",
        "                print (\"La velocidad no puede ser negativa.\")\n",
        "        else:\n",
        "              print (\"Debes encender el coche antes de acelerar.\")\n",
        "\n",
        "    def frenar(self, cantidad):\n",
        "        if self.encendido:\n",
        "            if cantidad >= 0 and cantidad <= self.kilometraje:\n",
        "                self.kilometraje -= cantidad\n",
        "                return f\"Frenando {cantidad} km.\"\n",
        "            else:\n",
        "                return \"La cantidad de frenado no es válida.\"\n",
        "        else:\n",
        "            return \"Debes encender el coche antes de frenar.\"\n",
        "\n",
        "\n",
        "mi_coche = Coche(\"Toyota\", \"Camry\", 2022)\n",
        "print(mi_coche.arrancar())\n",
        "print(mi_coche.acelerar(60))\n",
        "print(mi_coche.frenar(10))\n",
        "print(mi_coche.apagar())"
      ],
      "metadata": {
        "colab": {
          "base_uri": "https://localhost:8080/"
        },
        "id": "972gV1nN_Pi7",
        "outputId": "60b4081c-746b-4076-ce5c-1d5d33609f1f"
      },
      "execution_count": 245,
      "outputs": [
        {
          "output_type": "stream",
          "name": "stdout",
          "text": [
            "El coche ha arrancado.\n",
            "None\n",
            "Acelerando a 60 km/h.\n",
            "None\n",
            "Frenando 10 km.\n",
            "El coche se ha apagado.\n",
            "None\n"
          ]
        }
      ]
    },
    {
      "cell_type": "markdown",
      "source": [
        "3."
      ],
      "metadata": {
        "id": "yV1yEZDjtN9K"
      }
    },
    {
      "cell_type": "code",
      "source": [
        "class rectangulo:\n",
        "    def __init__(self, longitud, ancho):\n",
        "      self.longitud = longitud\n",
        "      self.ancho = ancho\n",
        "\n",
        "    def area(self):\n",
        "      a = self.longitud*self.ancho\n",
        "      print('El area del rectangulo es: ', a)\n",
        "\n",
        "    def perimetro(self):\n",
        "      p = 2*self.longitud+2*self.ancho\n",
        "      print('El perimetro del rectangulo es: ', p)\n",
        "\n",
        "rectangulo1 = rectangulo(2,2)\n",
        "print(rectangulo1.area())\n",
        "print(rectangulo1.perimetro())\n"
      ],
      "metadata": {
        "colab": {
          "base_uri": "https://localhost:8080/"
        },
        "id": "KPZh8_8stQrM",
        "outputId": "4177bae7-6234-4eea-c221-53f8a124f4d8"
      },
      "execution_count": 246,
      "outputs": [
        {
          "output_type": "stream",
          "name": "stdout",
          "text": [
            "El area del rectangulo es:  4\n",
            "None\n",
            "El perimetro del rectangulo es:  8\n",
            "None\n"
          ]
        }
      ]
    },
    {
      "cell_type": "markdown",
      "source": [
        "4."
      ],
      "metadata": {
        "id": "8B66HJw7woe0"
      }
    },
    {
      "cell_type": "code",
      "source": [
        "class Banco:\n",
        "    def __init__(self, nombre, direccion, documento):\n",
        "      self.nombre = nombre\n",
        "      self.direccion = direccion\n",
        "      self.documento = documento\n",
        "      self.saldo = 0\n",
        "\n",
        "    def abrir_cuenta(self):\n",
        "      return (f'Bienvenido(a) {self.nombre}, usted acaba de abrir una cuenta en nuestro banco con su documento {self.documento}, le enviaremos más información a su dirección {self.direccion}')\n",
        "\n",
        "    def depositar_dinero(self, deposito):\n",
        "      self.deposito = deposito\n",
        "      return (f'Señor {self.nombre} usted acaba de depositar {self.deposito} pesos ')\n",
        "\n",
        "\n",
        "    def retirar_dinero(self, retirar):\n",
        "      self.saldo = self.saldo+self.deposito\n",
        "      self.retirar = retirar\n",
        "      if ((self.saldo )<=0 or (self.saldo)<self.retirar):\n",
        "        self.saldo = self.saldo-0\n",
        "        return(f'Usted no cuenta con saldo suficiente para retirar la cantidad de dinero que acaba de solicitar ({self.retirar})')\n",
        "      else:\n",
        "        self.saldo = self.saldo - self.retirar\n",
        "        return(f'Usted acaba de retirar {self.retirar} pesos')\n",
        "\n",
        "\n",
        "    def revisar_saldo(self):\n",
        "      return(f'Su saldo actual es de {self.saldo} pesos')\n",
        "\n",
        "\n",
        "\n",
        "\n",
        "persona1 = Banco('Cristian', 'Clle 95b N° 36a', 1004532387)\n",
        "print(persona1.abrir_cuenta())\n",
        "print(persona1.depositar_dinero(30000))\n",
        "print(persona1.retirar_dinero(17000))\n",
        "print(persona1.revisar_saldo())\n",
        "\n"
      ],
      "metadata": {
        "colab": {
          "base_uri": "https://localhost:8080/"
        },
        "id": "CiSTjHSQwqBN",
        "outputId": "379a0c4b-d82b-4815-a64e-0cb08c8b9430"
      },
      "execution_count": 247,
      "outputs": [
        {
          "output_type": "stream",
          "name": "stdout",
          "text": [
            "Bienvenido(a) Cristian, usted acaba de abrir una cuenta en nuestro banco con su documento 1004532387, le enviaremos más información a su dirección Clle 95b N° 36a\n",
            "Señor Cristian usted acaba de depositar 30000 pesos \n",
            "Usted acaba de retirar 17000 pesos\n",
            "Su saldo actual es de 13000 pesos\n"
          ]
        }
      ]
    },
    {
      "cell_type": "markdown",
      "source": [
        "5."
      ],
      "metadata": {
        "id": "pjqRLgouBRtd"
      }
    },
    {
      "cell_type": "code",
      "source": [
        "class Estudiante:\n",
        "  def __init__(self, nombre, edad, promedio):\n",
        "    self.nombre = nombre\n",
        "    self.edad = edad\n",
        "    self. promedio = promedio\n",
        "\n",
        "\n",
        "\n",
        "  def estudiar(self, estudiar):\n",
        "    print(f'{self.nombre} es un estudiante de {self.edad} años, su promedio es de {self.promedio}')\n",
        "\n",
        "    self.estudiar = estudiar\n",
        "    if self.estudiar:\n",
        "      return(f'{self.nombre} está estudiando')\n",
        "    else:\n",
        "      return(f'{self.nombre} no está estudiando')\n",
        "\n",
        "  def hacer_tareas(self, tareas):\n",
        "    self.tareas = tareas\n",
        "    if self.tareas<=0:\n",
        "      return(f'{self.nombre} no tiene tareas pendientes')\n",
        "    else:\n",
        "      return(f'{self.nombre} tiene {self.tareas} para hacer')\n",
        "\n",
        "  def presentar_examenes(self):\n",
        "    return(f'{self.nombre} presenta exámenes teórico y prácticos')\n",
        "\n",
        "estudiante = Estudiante('Camilo', 16, 4.4)\n",
        "print(estudiante.estudiar(True))\n",
        "print(estudiante.hacer_tareas(5))\n",
        "print(estudiante.presentar_examenes())"
      ],
      "metadata": {
        "colab": {
          "base_uri": "https://localhost:8080/"
        },
        "id": "9kxSRkOUBTMX",
        "outputId": "214b22d5-4edd-4892-9078-292d97abc558"
      },
      "execution_count": 252,
      "outputs": [
        {
          "output_type": "stream",
          "name": "stdout",
          "text": [
            "Camilo es un estudiante de 16 años, su promedio es de 4.4\n",
            "Camilo está estudiando\n",
            "Camilo tiene 5 para hacer\n",
            "Camilo presenta exámenes teórico y prácticos\n"
          ]
        }
      ]
    }
  ]
}