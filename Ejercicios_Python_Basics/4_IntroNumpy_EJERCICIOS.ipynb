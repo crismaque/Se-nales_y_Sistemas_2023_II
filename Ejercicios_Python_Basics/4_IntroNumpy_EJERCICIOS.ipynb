{
  "nbformat": 4,
  "nbformat_minor": 0,
  "metadata": {
    "colab": {
      "provenance": [],
      "include_colab_link": true
    },
    "kernelspec": {
      "name": "python3",
      "display_name": "Python 3"
    },
    "language_info": {
      "name": "python"
    }
  },
  "cells": [
    {
      "cell_type": "markdown",
      "metadata": {
        "id": "view-in-github",
        "colab_type": "text"
      },
      "source": [
        "<a href=\"https://colab.research.google.com/github/crismaque/Se-nales_y_Sistemas_2023_II/blob/main/Ejercicios_Python_Basics/4_IntroNumpy_EJERCICIOS.ipynb\" target=\"_parent\"><img src=\"https://colab.research.google.com/assets/colab-badge.svg\" alt=\"Open In Colab\"/></a>"
      ]
    },
    {
      "cell_type": "code",
      "execution_count": 28,
      "metadata": {
        "id": "A0j_1LRgiiFv",
        "colab": {
          "base_uri": "https://localhost:8080/"
        },
        "outputId": "48d7102e-623e-48ae-8415-0c95dff9b530"
      },
      "outputs": [
        {
          "output_type": "stream",
          "name": "stdout",
          "text": [
            "<class 'int'> <class 'float'>\n"
          ]
        }
      ],
      "source": [
        "import numpy as np # importar libreria numpy\n",
        "x = 30 #tipo int\n",
        "y = 36.5 #tipo float\n",
        "\n",
        "print(type(x),type(y)) #imprimir en pantalla"
      ]
    },
    {
      "cell_type": "code",
      "source": [
        "xv = np.array([0,-2.5,10]) #crear array tipo vector\n",
        "xv"
      ],
      "metadata": {
        "id": "rAW4Q3SmjVf-",
        "colab": {
          "base_uri": "https://localhost:8080/"
        },
        "outputId": "d44ca205-4459-47b3-8439-954ee6399c82"
      },
      "execution_count": 29,
      "outputs": [
        {
          "output_type": "execute_result",
          "data": {
            "text/plain": [
              "array([ 0. , -2.5, 10. ])"
            ]
          },
          "metadata": {},
          "execution_count": 29
        }
      ]
    },
    {
      "cell_type": "markdown",
      "source": [
        "#Listas vs numpy array\n",
        "\n",
        "Las listas pueden contener, números, strings, y en general objetos.\n",
        "Los array de numpy están pensados para procesar números (matrices, tensores)"
      ],
      "metadata": {
        "id": "2ANJCb8djWif"
      }
    },
    {
      "cell_type": "code",
      "source": [
        "xl = [0,-2,0.5]\n",
        "xl"
      ],
      "metadata": {
        "id": "cOVdYL_gl5OJ",
        "colab": {
          "base_uri": "https://localhost:8080/"
        },
        "outputId": "47dc7989-0899-4933-8d9d-87fd219fec84"
      },
      "execution_count": 30,
      "outputs": [
        {
          "output_type": "execute_result",
          "data": {
            "text/plain": [
              "[0, -2, 0.5]"
            ]
          },
          "metadata": {},
          "execution_count": 30
        }
      ]
    },
    {
      "cell_type": "code",
      "source": [
        "xl = ['Brian Patiño',0.5, 2] #lista de tres elementos con un string, un flotante y un entero\n",
        "xl"
      ],
      "metadata": {
        "id": "2u_7YmkjmC4b",
        "colab": {
          "base_uri": "https://localhost:8080/"
        },
        "outputId": "8253e429-056b-4bd5-a5ca-ab7c6e9dd1d5"
      },
      "execution_count": 31,
      "outputs": [
        {
          "output_type": "execute_result",
          "data": {
            "text/plain": [
              "['Brian Patiño', 0.5, 2]"
            ]
          },
          "metadata": {},
          "execution_count": 31
        }
      ]
    },
    {
      "cell_type": "markdown",
      "source": [
        "#Tamaños, indexación y graficar numpy array"
      ],
      "metadata": {
        "id": "4rsC2rxtmLTh"
      }
    },
    {
      "cell_type": "code",
      "source": [
        "xv.shape # vector con 3 elementos - > shape retorna la forma (tamaño del arreglo)"
      ],
      "metadata": {
        "id": "hgudyquemKl5",
        "colab": {
          "base_uri": "https://localhost:8080/"
        },
        "outputId": "1d3218d7-4ca8-47e8-82ca-8c542e6a734b"
      },
      "execution_count": 32,
      "outputs": [
        {
          "output_type": "execute_result",
          "data": {
            "text/plain": [
              "(3,)"
            ]
          },
          "metadata": {},
          "execution_count": 32
        }
      ]
    },
    {
      "cell_type": "code",
      "source": [
        "xm = np.array([[0,-2.5,10,4],[6,47,70,2],[8,10.2,-698,-0.9]]) #cada lista de números es tratada como una fila de la matriz\n",
        "xm"
      ],
      "metadata": {
        "id": "pxaGM0EQmSZu",
        "colab": {
          "base_uri": "https://localhost:8080/"
        },
        "outputId": "54241c8f-89d0-44a1-8f87-48afb959a32b"
      },
      "execution_count": 33,
      "outputs": [
        {
          "output_type": "execute_result",
          "data": {
            "text/plain": [
              "array([[   0. ,   -2.5,   10. ,    4. ],\n",
              "       [   6. ,   47. ,   70. ,    2. ],\n",
              "       [   8. ,   10.2, -698. ,   -0.9]])"
            ]
          },
          "metadata": {},
          "execution_count": 33
        }
      ]
    },
    {
      "cell_type": "code",
      "source": [
        "xm.shape"
      ],
      "metadata": {
        "id": "WShNgcwpmVQn",
        "colab": {
          "base_uri": "https://localhost:8080/"
        },
        "outputId": "e270200a-a913-46ba-b791-574844d3eeae"
      },
      "execution_count": 34,
      "outputs": [
        {
          "output_type": "execute_result",
          "data": {
            "text/plain": [
              "(3, 4)"
            ]
          },
          "metadata": {},
          "execution_count": 34
        }
      ]
    },
    {
      "cell_type": "markdown",
      "source": [
        "# En python se indexa desde 0"
      ],
      "metadata": {
        "id": "XfbAsn4HmiYz"
      }
    },
    {
      "cell_type": "code",
      "source": [
        "xv = np.array([-6,5,4.2,3,8,50,16])\n",
        "print(xv,xv.shape,xv[0])"
      ],
      "metadata": {
        "id": "JPCFkhpvmnMy",
        "colab": {
          "base_uri": "https://localhost:8080/"
        },
        "outputId": "850b44d3-5d04-4b1c-8c27-1f8ddf485960"
      },
      "execution_count": 35,
      "outputs": [
        {
          "output_type": "stream",
          "name": "stdout",
          "text": [
            "[-6.   5.   4.2  3.   8.  50.  16. ] (7,) -6.0\n"
          ]
        }
      ]
    },
    {
      "cell_type": "markdown",
      "source": [
        "# En Python, cuando se indexa por rangos de valores, no se incluye el último elemento"
      ],
      "metadata": {
        "id": "_-muWXM9mtjf"
      }
    },
    {
      "cell_type": "code",
      "source": [
        "xv[1:5] # x[t_0] # no se incluye el elemento 5 que equivale a x[5] = 50"
      ],
      "metadata": {
        "id": "Uv0esZSnmr4Z",
        "colab": {
          "base_uri": "https://localhost:8080/"
        },
        "outputId": "2015906e-fab5-4c02-c719-dc2921f0f9cf"
      },
      "execution_count": 36,
      "outputs": [
        {
          "output_type": "execute_result",
          "data": {
            "text/plain": [
              "array([5. , 4.2, 3. , 8. ])"
            ]
          },
          "metadata": {},
          "execution_count": 36
        }
      ]
    },
    {
      "cell_type": "markdown",
      "source": [
        "Cuando se piden todos los elementos hasta el final con el operador : si se incluye el último elemento"
      ],
      "metadata": {
        "id": "5YzGa1qpm-JZ"
      }
    },
    {
      "cell_type": "code",
      "source": [
        "# desde el segundo elemento hasta el ultimo\n",
        "print(xv)\n",
        "print(xv[1:])"
      ],
      "metadata": {
        "id": "Crz6m4BCnBC-",
        "colab": {
          "base_uri": "https://localhost:8080/"
        },
        "outputId": "3394f173-f7e2-4b64-d17c-182fde389af1"
      },
      "execution_count": 37,
      "outputs": [
        {
          "output_type": "stream",
          "name": "stdout",
          "text": [
            "[-6.   5.   4.2  3.   8.  50.  16. ]\n",
            "[ 5.   4.2  3.   8.  50.  16. ]\n"
          ]
        }
      ]
    },
    {
      "cell_type": "code",
      "source": [
        "#desde antes del tercer elmento hasta el principio\n",
        "print(xv)\n",
        "print(xv[:3])"
      ],
      "metadata": {
        "id": "zHtT__fdnDMm",
        "colab": {
          "base_uri": "https://localhost:8080/"
        },
        "outputId": "2dd703e1-8863-4085-d466-c8809bdb04ee"
      },
      "execution_count": 38,
      "outputs": [
        {
          "output_type": "stream",
          "name": "stdout",
          "text": [
            "[-6.   5.   4.2  3.   8.  50.  16. ]\n",
            "[-6.   5.   4.2]\n"
          ]
        }
      ]
    },
    {
      "cell_type": "markdown",
      "source": [
        "# Para matrices se extiende la misma sintaxis para indexar vectores, pero separando la indexación por filas y por columnas"
      ],
      "metadata": {
        "id": "RyocOAxxnG6d"
      }
    },
    {
      "cell_type": "code",
      "source": [
        "print(xm)"
      ],
      "metadata": {
        "id": "mkt89S_KnGpa",
        "colab": {
          "base_uri": "https://localhost:8080/"
        },
        "outputId": "8470e568-98ee-4664-a7e7-45d8a4254db1"
      },
      "execution_count": 39,
      "outputs": [
        {
          "output_type": "stream",
          "name": "stdout",
          "text": [
            "[[   0.    -2.5   10.     4. ]\n",
            " [   6.    47.    70.     2. ]\n",
            " [   8.    10.2 -698.    -0.9]]\n"
          ]
        }
      ]
    },
    {
      "cell_type": "code",
      "source": [
        "xm[0:2,:2]"
      ],
      "metadata": {
        "id": "5S6CVqkfnTeu",
        "colab": {
          "base_uri": "https://localhost:8080/"
        },
        "outputId": "dba28c0f-5c74-48ba-e446-19ffa942de7b"
      },
      "execution_count": 53,
      "outputs": [
        {
          "output_type": "execute_result",
          "data": {
            "text/plain": [
              "array([[ 0. , -2.5],\n",
              "       [ 6. , 47. ]])"
            ]
          },
          "metadata": {},
          "execution_count": 53
        }
      ]
    },
    {
      "cell_type": "code",
      "source": [
        "xm[0:2,0]"
      ],
      "metadata": {
        "id": "g06VeUeenV2j",
        "colab": {
          "base_uri": "https://localhost:8080/"
        },
        "outputId": "308abb16-14be-4912-f259-12f9079a93ff"
      },
      "execution_count": 41,
      "outputs": [
        {
          "output_type": "execute_result",
          "data": {
            "text/plain": [
              "array([0., 6.])"
            ]
          },
          "metadata": {},
          "execution_count": 41
        }
      ]
    },
    {
      "cell_type": "code",
      "source": [
        "xm[0,1:]"
      ],
      "metadata": {
        "id": "X3e1USJunbmT",
        "colab": {
          "base_uri": "https://localhost:8080/"
        },
        "outputId": "3fb9a8ac-9067-463e-8f79-cdd50bfb09ab"
      },
      "execution_count": 42,
      "outputs": [
        {
          "output_type": "execute_result",
          "data": {
            "text/plain": [
              "array([-2.5, 10. ,  4. ])"
            ]
          },
          "metadata": {},
          "execution_count": 42
        }
      ]
    },
    {
      "cell_type": "code",
      "source": [
        "np.diag(xm)#diagonal del arreglo (matriz)"
      ],
      "metadata": {
        "id": "HcF0wWaWnhzE",
        "colab": {
          "base_uri": "https://localhost:8080/"
        },
        "outputId": "f972fb54-5b75-44b8-ac4c-0142cf27561e"
      },
      "execution_count": 43,
      "outputs": [
        {
          "output_type": "execute_result",
          "data": {
            "text/plain": [
              "array([   0.,   47., -698.])"
            ]
          },
          "metadata": {},
          "execution_count": 43
        }
      ]
    },
    {
      "cell_type": "markdown",
      "source": [
        "#Vectores"
      ],
      "metadata": {
        "id": "H9xP5gCAouDA"
      }
    },
    {
      "cell_type": "markdown",
      "source": [
        "Un vector es una secuencia de valores numéricos. En Python, podemos representar un vector utilizando una lista de números. Por ejemplo, el siguiente código crea un vector con los valores 1, 2 y 3:"
      ],
      "metadata": {
        "id": "xBzI1mrwoy9C"
      }
    },
    {
      "cell_type": "code",
      "source": [
        "vector = [1, 2, 3]"
      ],
      "metadata": {
        "id": "wKNF_4jEovei"
      },
      "execution_count": 44,
      "outputs": []
    },
    {
      "cell_type": "markdown",
      "source": [
        "Podemos acceder a cada elemento del vector utilizando su índice. El índice del primer elemento es 0, el índice del segundo elemento es 1, y así sucesivamente. Por ejemplo, para acceder al segundo elemento del vector, podemos utilizar el siguiente código:"
      ],
      "metadata": {
        "id": "5qRdoqF6o5xN"
      }
    },
    {
      "cell_type": "code",
      "source": [
        "segundo_elemento = vector[1]"
      ],
      "metadata": {
        "id": "PJdCm_NZo8Xo"
      },
      "execution_count": 45,
      "outputs": []
    },
    {
      "cell_type": "markdown",
      "source": [
        "También podemos utilizar la función len para obtener la longitud del vector:"
      ],
      "metadata": {
        "id": "jDI4thYXo_Zt"
      }
    },
    {
      "cell_type": "code",
      "source": [
        "longitud = len(vector)"
      ],
      "metadata": {
        "id": "ZypNr3FJo_FS"
      },
      "execution_count": 46,
      "outputs": []
    },
    {
      "cell_type": "markdown",
      "source": [
        "Además, podemos realizar operaciones aritméticas con vectores utilizando bucles for. Por ejemplo, el siguiente código suma dos vectores indexando las listas:"
      ],
      "metadata": {
        "id": "qY_VSrskpIVt"
      }
    },
    {
      "cell_type": "code",
      "source": [
        "vector1 = [1, 2, 3]\n",
        "vector2 = [4, 5, 6]\n",
        "\n",
        "resultado = []\n",
        "for i in range(len(vector1)):\n",
        "    suma = vector1[i] + vector2[i]\n",
        "    resultado.append(suma)"
      ],
      "metadata": {
        "id": "AUph6GDHpHjp"
      },
      "execution_count": 47,
      "outputs": []
    },
    {
      "cell_type": "markdown",
      "source": [
        "#Matrices\n",
        "\n",
        "Una matriz es una tabla de valores numéricos. En Python, podemos representar una matriz utilizando una lista de listas. Cada lista interna representa una fila de la matriz. Por ejemplo, el siguiente código crea una matriz de 2 filas y 3 columnas:"
      ],
      "metadata": {
        "id": "GmhYC3V5pUOE"
      }
    },
    {
      "cell_type": "code",
      "source": [
        "matriz = [[1, 2, 3], [4, 5, 6]]"
      ],
      "metadata": {
        "id": "H3alN06LpWNl"
      },
      "execution_count": 48,
      "outputs": []
    },
    {
      "cell_type": "markdown",
      "source": [
        "Podemos acceder a cada elemento de la matriz utilizando su índice de fila y columna. El índice de la primera fila es 0, el índice de la segunda fila es 1, y así sucesivamente. El índice de la primera columna es 0, el índice de la segunda columna es 1, y así sucesivamente. Por ejemplo, para acceder al elemento en la primera fila y la segunda columna de la matriz, podemos utilizar el siguiente código:"
      ],
      "metadata": {
        "id": "D-zcpq-npa68"
      }
    },
    {
      "cell_type": "code",
      "source": [
        "elemento = matriz[0][1]"
      ],
      "metadata": {
        "id": "aqcRdvhTpgxZ"
      },
      "execution_count": 49,
      "outputs": []
    },
    {
      "cell_type": "markdown",
      "source": [
        "También podemos utilizar la función len para obtener el número de filas y columnas de la matriz:"
      ],
      "metadata": {
        "id": "vEOW9rDDpjhN"
      }
    },
    {
      "cell_type": "code",
      "source": [
        "num_filas = len(matriz)\n",
        "num_columnas = len(matriz[0])"
      ],
      "metadata": {
        "id": "9UHVMPYPplBJ"
      },
      "execution_count": 50,
      "outputs": []
    },
    {
      "cell_type": "markdown",
      "source": [
        "Podemos realizar operaciones aritméticas con matrices utilizando bucles for. Por ejemplo, el siguiente código suma dos matrices:"
      ],
      "metadata": {
        "id": "mG9IatIPprn4"
      }
    },
    {
      "cell_type": "code",
      "source": [
        "# Definimos las matrices a sumar\n",
        "matriz1 = [[1, 2, 3], [4, 5, 6], [7, 8, 9]]\n",
        "matriz2 = [[9, 8, 7], [6, 5, 4], [3, 2, 1]]\n",
        "\n",
        "# Creamos una matriz vacía del mismo tamaño que las matrices originales\n",
        "suma = []\n",
        "for i in range(len(matriz1)):\n",
        "    fila = []\n",
        "    for j in range(len(matriz1[0])):\n",
        "        fila.append(0)\n",
        "    suma.append(fila)\n",
        "\n",
        "# Realizamos la suma de cada elemento correspondiente en ambas matrices\n",
        "for i in range(len(matriz1)):\n",
        "    for j in range(len(matriz1[0])):\n",
        "        suma[i][j] = matriz1[i][j] + matriz2[i][j]\n",
        "\n",
        "# Imprimimos la matriz resultante\n",
        "print(suma)\n"
      ],
      "metadata": {
        "colab": {
          "base_uri": "https://localhost:8080/"
        },
        "id": "bQ9gAQryprXS",
        "outputId": "83cebc8f-cb1e-4cb5-b34e-d93479b3fd24"
      },
      "execution_count": 51,
      "outputs": [
        {
          "output_type": "stream",
          "name": "stdout",
          "text": [
            "[[10, 10, 10], [10, 10, 10], [10, 10, 10]]\n"
          ]
        }
      ]
    },
    {
      "cell_type": "markdown",
      "source": [
        "**Nota**: Si bien, las listas pueden utilizarse para crear vectores y matrices, para operaciones matemáticas se recomienda trabajar con la librería numpy y arrays, dado que se optimiza el uso de cómputo y se cuenta con métodos depurados para operaciones matemáticas y algebráicas."
      ],
      "metadata": {
        "id": "y7oDRC4V-xGV"
      }
    },
    {
      "cell_type": "markdown",
      "source": [
        "Developed by:\n",
        "\n",
        "- Brian Patino Agudelo - bpatinoa@unal.edu.co\n",
        "\n",
        "- Andrés Marino Álvarez Meza - amalvarezme@unal.edu.co\n",
        "\n",
        "- César Germán Castellanos Domínguez - cgcastellanosd@unal.edu.co"
      ],
      "metadata": {
        "id": "2kgFEuPs_HPB"
      }
    }
  ]
}